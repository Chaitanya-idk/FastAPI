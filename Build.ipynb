{
 "cells": [
  {
   "cell_type": "markdown",
   "id": "a8c3b951",
   "metadata": {},
   "source": [
    "Q2. How do you build, test, and deploy an API for a machine learning model? "
   ]
  },
  {
   "cell_type": "markdown",
   "id": "de992d46",
   "metadata": {},
   "source": []
  },
  {
   "cell_type": "code",
   "execution_count": null,
   "id": "c1fdb3b7",
   "metadata": {},
   "outputs": [],
   "source": []
  }
 ],
 "metadata": {
  "language_info": {
   "name": "python"
  }
 },
 "nbformat": 4,
 "nbformat_minor": 5
}
